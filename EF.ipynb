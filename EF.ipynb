{
 "cells": [
  {
   "cell_type": "code",
   "execution_count": 5,
   "source": [
    "import networkx as nx\n",
    "import pandas as pd\n",
    "import matplotlib.pyplot as plt\n",
    "import pylab\n",
    "import random\n",
    "import numpy as np\n",
    "import threading\n",
    "import time"
   ],
   "outputs": [],
   "metadata": {}
  },
  {
   "cell_type": "code",
   "execution_count": 2,
   "source": [
    "data = pd.read_csv(\"cloth/edges_ln.csv\")\n",
    "data.rename(columns={\"balance\" : \"capacity\", \"fee_proportional\" : \"weight\"}, inplace=True)\n",
    "data = data[['from_node_id', 'to_node_id', 'capacity', 'weight']]\n",
    "\n",
    "## preprocess\n",
    "data = data.groupby(['from_node_id', 'to_node_id']).agg({'capacity': 'sum', 'weight': 'mean'}).reset_index()\n",
    "data = data.astype({'weight' : int})\n",
    "# data[(data['from_node_id'] == 1)]['capacity'].sum()\n",
    "data"
   ],
   "outputs": [
    {
     "output_type": "execute_result",
     "data": {
      "text/html": [
       "<div>\n",
       "<style scoped>\n",
       "    .dataframe tbody tr th:only-of-type {\n",
       "        vertical-align: middle;\n",
       "    }\n",
       "\n",
       "    .dataframe tbody tr th {\n",
       "        vertical-align: top;\n",
       "    }\n",
       "\n",
       "    .dataframe thead th {\n",
       "        text-align: right;\n",
       "    }\n",
       "</style>\n",
       "<table border=\"1\" class=\"dataframe\">\n",
       "  <thead>\n",
       "    <tr style=\"text-align: right;\">\n",
       "      <th></th>\n",
       "      <th>from_node_id</th>\n",
       "      <th>to_node_id</th>\n",
       "      <th>capacity</th>\n",
       "      <th>weight</th>\n",
       "    </tr>\n",
       "  </thead>\n",
       "  <tbody>\n",
       "    <tr>\n",
       "      <th>0</th>\n",
       "      <td>0</td>\n",
       "      <td>1</td>\n",
       "      <td>4300909</td>\n",
       "      <td>1</td>\n",
       "    </tr>\n",
       "    <tr>\n",
       "      <th>1</th>\n",
       "      <td>1</td>\n",
       "      <td>0</td>\n",
       "      <td>45699091</td>\n",
       "      <td>1</td>\n",
       "    </tr>\n",
       "    <tr>\n",
       "      <th>2</th>\n",
       "      <td>1</td>\n",
       "      <td>2</td>\n",
       "      <td>607791280</td>\n",
       "      <td>1</td>\n",
       "    </tr>\n",
       "    <tr>\n",
       "      <th>3</th>\n",
       "      <td>1</td>\n",
       "      <td>6</td>\n",
       "      <td>93361068</td>\n",
       "      <td>1</td>\n",
       "    </tr>\n",
       "    <tr>\n",
       "      <th>4</th>\n",
       "      <td>1</td>\n",
       "      <td>12</td>\n",
       "      <td>5393325728</td>\n",
       "      <td>1</td>\n",
       "    </tr>\n",
       "    <tr>\n",
       "      <th>...</th>\n",
       "      <td>...</td>\n",
       "      <td>...</td>\n",
       "      <td>...</td>\n",
       "      <td>...</td>\n",
       "    </tr>\n",
       "    <tr>\n",
       "      <th>54195</th>\n",
       "      <td>6002</td>\n",
       "      <td>345</td>\n",
       "      <td>19782854</td>\n",
       "      <td>1</td>\n",
       "    </tr>\n",
       "    <tr>\n",
       "      <th>54196</th>\n",
       "      <td>6002</td>\n",
       "      <td>854</td>\n",
       "      <td>187850564</td>\n",
       "      <td>1</td>\n",
       "    </tr>\n",
       "    <tr>\n",
       "      <th>54197</th>\n",
       "      <td>6003</td>\n",
       "      <td>5765</td>\n",
       "      <td>6738344</td>\n",
       "      <td>1</td>\n",
       "    </tr>\n",
       "    <tr>\n",
       "      <th>54198</th>\n",
       "      <td>6004</td>\n",
       "      <td>1931</td>\n",
       "      <td>235598450</td>\n",
       "      <td>1</td>\n",
       "    </tr>\n",
       "    <tr>\n",
       "      <th>54199</th>\n",
       "      <td>6005</td>\n",
       "      <td>4100</td>\n",
       "      <td>85344439</td>\n",
       "      <td>1</td>\n",
       "    </tr>\n",
       "  </tbody>\n",
       "</table>\n",
       "<p>54200 rows × 4 columns</p>\n",
       "</div>"
      ],
      "text/plain": [
       "       from_node_id  to_node_id    capacity  weight\n",
       "0                 0           1     4300909       1\n",
       "1                 1           0    45699091       1\n",
       "2                 1           2   607791280       1\n",
       "3                 1           6    93361068       1\n",
       "4                 1          12  5393325728       1\n",
       "...             ...         ...         ...     ...\n",
       "54195          6002         345    19782854       1\n",
       "54196          6002         854   187850564       1\n",
       "54197          6003        5765     6738344       1\n",
       "54198          6004        1931   235598450       1\n",
       "54199          6005        4100    85344439       1\n",
       "\n",
       "[54200 rows x 4 columns]"
      ]
     },
     "metadata": {},
     "execution_count": 2
    }
   ],
   "metadata": {}
  },
  {
   "cell_type": "code",
   "execution_count": 3,
   "source": [
    "G = nx.from_pandas_edgelist(data, 'from_node_id', 'to_node_id', edge_attr=['capacity', 'weight'], create_using=nx.DiGraph())\n",
    "# G.add_nodes_from([i for i in range(0, 6006)])"
   ],
   "outputs": [],
   "metadata": {}
  },
  {
   "cell_type": "code",
   "execution_count": 74,
   "source": [
    "%%time\n",
    "sampleSize = 50\n",
    "randS = random.sample(range(0, 6005), sampleSize)\n",
    "randT = random.sample(range(0, 6005), sampleSize)\n",
    "X = []\n",
    "costCoef = 1\n",
    "for i in range(sampleSize):\n",
    "#     print(1)\n",
    "    s, t = randS[i], randT[i]\n",
    "    mincostFlow = nx.max_flow_min_cost(G, s, t)\n",
    "#     print(2)\n",
    "    mincost = nx.cost_of_flow(G, mincostFlow)\n",
    "#     print(3)\n",
    "    mincost /= 1000000\n",
    "    mincostFlowValue = sum((mincostFlow[u][t] for u in G.predecessors(t))) - sum(\n",
    "        (mincostFlow[t][v] for v in G.successors(t))\n",
    "    )\n",
    "#     print(4)\n",
    "    \n",
    "    fund = sum((G[s][u]['capacity'] for u in G.successors(s)))\n",
    "#     print(5)\n",
    "    if fund == 0:\n",
    "        X.append(0)\n",
    "        continue\n",
    "    X.append((mincostFlowValue - costCoef * mincost) / fund)\n",
    "\n",
    "print(X)"
   ],
   "outputs": [
    {
     "output_type": "stream",
     "name": "stdout",
     "text": [
      "[0.9999966027187981, 0.9999969999999999, 0.9999830326663014, 0.9999728814263767, 0.00040543143695131214, 0.25773325834862826, 0.9999887215463623, 0.15043614519914836, 0.0, 0.00023303698123758063, 0.9999920290926725, 0.0, 0.9999160577632008, 0.9999971213342328, 0.9999968631315592, 0.38586175657938365, 0.00788094078321693, 0.0, 0, 0, 0.8009876893261272, 0.03473756370179422, 0, 0.9999131439423201, 0, 0, 0.0, 2.4856790779964982e-05, 0.8242446052097799, 0.9999969029115541, 0.9989979999999999, 0.0, 0.9999969048316552, 0.9999955915323737, 0.9997952337133765, 0.999996364560276, 0.9999872083128784, 0.9999885603687799, 0.017592255874015705, 0.05781290387738841, 0.9999977770237255, 0.0, 0.00022272324866334746, 0.999997, 0.20353161365691186, 2.2542309793833204e-05, 0.999939, 0.9999969999999999, 0.0, 0.03461212438147986]\n",
      "CPU times: user 2min 20s, sys: 136 ms, total: 2min 20s\n",
      "Wall time: 2min 20s\n"
     ]
    }
   ],
   "metadata": {
    "scrolled": true
   }
  },
  {
   "cell_type": "code",
   "execution_count": 75,
   "source": [
    "print(\"overall std :\",np.std(X) / np.sqrt(sampleSize))\n",
    "print(\"Lightning network EF :\", np.mean(X))"
   ],
   "outputs": [
    {
     "output_type": "stream",
     "name": "stdout",
     "text": [
      "overall std : 0.06731281406200168\n",
      "Lightning network EF : 0.4954955688916348\n"
     ]
    }
   ],
   "metadata": {}
  },
  {
   "cell_type": "code",
   "execution_count": 73,
   "source": [
    "dropCount = 10000\n",
    "edgeList = list(G.edges)\n",
    "r = random.sample(edgeList, dropCount)\n",
    "G.remove_edges_from(r)"
   ],
   "outputs": [],
   "metadata": {}
  },
  {
   "cell_type": "code",
   "execution_count": 6,
   "source": [
    "nodeData = pd.read_csv(\"cloth/nodes_ln.csv\")\n",
    "l = list(nodeData['id'])\n",
    "# print(l)"
   ],
   "outputs": [],
   "metadata": {}
  },
  {
   "cell_type": "code",
   "execution_count": 33,
   "source": [
    "import pandas as pd\n",
    "\n",
    "def remove_specific_row_from_csv(file, args):\n",
    "    df = pd.read_csv(file)\n",
    "    df = df.drop(index=args)\n",
    "    df.to_csv(file, index=False)\n",
    "\n"
   ],
   "outputs": [],
   "metadata": {}
  },
  {
   "cell_type": "code",
   "execution_count": 35,
   "source": [
    "remove_specific_row_from_csv(\"./cloth/payments.csv\", [0, 1, 2])"
   ],
   "outputs": [],
   "metadata": {}
  },
  {
   "cell_type": "code",
   "execution_count": 14,
   "source": [
    "#betweenness\n",
    "# bc = nx.betweenness_centrality(G, weight=False, normalized=False)\n",
    "# bc"
   ],
   "outputs": [],
   "metadata": {}
  },
  {
   "cell_type": "code",
   "execution_count": 15,
   "source": [
    "#closeness\n",
    "\n",
    "cc = nx.closeness_centrality(G)"
   ],
   "outputs": [],
   "metadata": {}
  },
  {
   "cell_type": "code",
   "execution_count": 18,
   "source": [
    "#degree\n",
    "dc = nx.degree_centrality(G)"
   ],
   "outputs": [],
   "metadata": {}
  },
  {
   "cell_type": "code",
   "execution_count": 19,
   "source": [
    "evc = nx.eigenvector_centrality(G)"
   ],
   "outputs": [],
   "metadata": {}
  },
  {
   "cell_type": "code",
   "execution_count": 17,
   "source": [
    "dataSize = 100\n",
    "randNodes = random.sample(range(0, 6005), dataSize)\n"
   ],
   "outputs": [
    {
     "output_type": "execute_result",
     "data": {
      "text/plain": [
       "0.3377045392093966"
      ]
     },
     "metadata": {},
     "execution_count": 17
    }
   ],
   "metadata": {}
  },
  {
   "cell_type": "code",
   "execution_count": 12,
   "source": [
    "payments = pd.read_csv(\"./cloth/output_dir/payments_output.csv\")\n",
    "succeededCount = payments[(payments['sender_id'] == 1710) & (payments['is_success'] == 1)].count()[0]\n",
    "succeededCount"
   ],
   "outputs": [
    {
     "output_type": "execute_result",
     "data": {
      "text/plain": [
       "2"
      ]
     },
     "metadata": {},
     "execution_count": 12
    }
   ],
   "metadata": {}
  }
 ],
 "metadata": {
  "kernelspec": {
   "name": "python3",
   "display_name": "Python 3.8.10 64-bit"
  },
  "language_info": {
   "codemirror_mode": {
    "name": "ipython",
    "version": 3
   },
   "file_extension": ".py",
   "mimetype": "text/x-python",
   "name": "python",
   "nbconvert_exporter": "python",
   "pygments_lexer": "ipython3",
   "version": "3.8.10"
  },
  "interpreter": {
   "hash": "916dbcbb3f70747c44a77c7bcd40155683ae19c65e1c03b4aa3499c5328201f1"
  }
 },
 "nbformat": 4,
 "nbformat_minor": 5
}