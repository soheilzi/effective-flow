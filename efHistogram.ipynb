{
 "cells": [
  {
   "cell_type": "code",
   "execution_count": 1,
   "metadata": {},
   "outputs": [],
   "source": [
    "import networkx as nx\n",
    "import multiprocessing\n",
    "import pandas as pd\n",
    "import random\n",
    "import numpy as np\n",
    "import sys\n",
    "import json\n",
    "import csv\n",
    "import matplotlib.pyplot as plt\n",
    "# Make the graphs a bit prettier, and bigger\n",
    "plt.style.use('ggplot')\n",
    "plt.rcParams['figure.figsize'] = (15, 5)"
   ]
  },
  {
   "cell_type": "code",
   "execution_count": 2,
   "metadata": {},
   "outputs": [],
   "source": [
    "sampleSize = 1024\n",
    "edgesFile = \"./cloth/edges_ln.csv\"\n",
    "nodesFile = \"./cloth/nodes_ln.csv\"\n",
    "\n",
    "processCount = 4\n",
    "X = [[multiprocessing.Value(\"f\", 0.0, lock=False) for j in range(sampleSize // processCount)] for i in range(processCount)]\n",
    "\n",
    "def efSampler(G, randS, randT, processId, costCoef=1):\n",
    "    # print(\"%d, size = %d\"% (processId, len(randS)))\n",
    "    for i in range(sampleSize // processCount):\n",
    "        # print(\"%d, i = %d\"% (processId, i))\n",
    "        s, t = randS[i], randT[i]\n",
    "        mincostFlow = nx.max_flow_min_cost(G, s, t)\n",
    "        mincost = nx.cost_of_flow(G, mincostFlow)\n",
    "        mincost /= 1000000\n",
    "        mincostFlowValue = sum((mincostFlow[u][t] for u in G.predecessors(t))) - sum(\n",
    "            (mincostFlow[t][v] for v in G.successors(t))\n",
    "        )\n",
    "        \n",
    "        fund = sum((G[s][u]['capacity'] for u in G.successors(s)))\n",
    "        if fund == 0:\n",
    "            continue\n",
    "        X[processId][i].value = (mincostFlowValue - costCoef * mincost) / fund\n",
    "        # print(X[processId][i])\n",
    "    \n",
    "\n",
    "data = pd.read_csv(edgesFile)\n",
    "data.rename(columns={\"balance\" : \"capacity\", \"fee_proportional\" : \"weight\"}, inplace=True)\n",
    "data = data[['from_node_id', 'to_node_id', 'capacity', 'weight']]\n",
    "\n",
    "nodeData = pd.read_csv(nodesFile)\n",
    "nodeList = list(nodeData['id'])\n",
    "\n",
    "### preprocess\n",
    "data = data.groupby(['from_node_id', 'to_node_id']).agg({'capacity': 'sum', 'weight': 'mean'}).reset_index()\n",
    "data = data.astype({'weight' : int})\n",
    "\n",
    "### graph constructoin\n",
    "G = nx.from_pandas_edgelist(data, 'from_node_id', 'to_node_id', edge_attr=['capacity', 'weight'], create_using=nx.DiGraph())\n",
    "G.add_nodes_from(nodeList)\n",
    "\n",
    "# multiprocessing\n",
    "randS = random.sample(nodeList, sampleSize)\n",
    "randT = random.sample(nodeList, sampleSize)\n",
    "\n",
    "p0 = multiprocessing.Process(target=efSampler, args=(G, randS[0:sampleSize // processCount], randT[0:sampleSize // processCount], 0,))\n",
    "p1 = multiprocessing.Process(target=efSampler, args=(G, randS[sampleSize // processCount: 2 * sampleSize // processCount], randT[sampleSize // processCount: 2 * sampleSize // processCount], 1,))\n",
    "p2 = multiprocessing.Process(target=efSampler, args=(G, randS[sampleSize // 2: 3 * sampleSize // processCount], randT[sampleSize // 2: 3 * sampleSize // processCount], 2,))\n",
    "p3 = multiprocessing.Process(target=efSampler, args=(G, randS[3 * sampleSize // processCount: sampleSize], randT[3 * sampleSize // processCount: sampleSize], 3,))\n",
    "\n",
    "p0.start()\n",
    "p1.start()\n",
    "p2.start()\n",
    "p3.start()\n",
    "\n",
    "p0.join()\n",
    "p1.join()\n",
    "p2.join()\n",
    "p3.join()\n",
    "\n",
    "Xjoined = []\n",
    "for i in range(processCount):\n",
    "    for j in range(sampleSize // processCount):\n",
    "        Xjoined.append(X[i][j].value)"
   ]
  },
  {
   "cell_type": "code",
   "execution_count": 5,
   "metadata": {},
   "outputs": [
    {
     "data": {
      "text/plain": [
       "(array([208.,  43.,  41.,  35.,  23.,  13.,  10.,   9.,  13.,  14.,  11.,\n",
       "          9.,   4.,   8.,   6.,   4.,   3.,   5.,   4.,   3.,   7.,   2.,\n",
       "          2.,   4.,   6.,   5.,   4.,   0.,   2.,   2.,   1.,   6.,   3.,\n",
       "          1.,   1.,   2.,   3.,   0.,   2.,   1.,   4.,   0.,   2.,   2.,\n",
       "          0.,   3.,   4.,   4.,   7., 478.]),\n",
       " array([0.  , 0.02, 0.04, 0.06, 0.08, 0.1 , 0.12, 0.14, 0.16, 0.18, 0.2 ,\n",
       "        0.22, 0.24, 0.26, 0.28, 0.3 , 0.32, 0.34, 0.36, 0.38, 0.4 , 0.42,\n",
       "        0.44, 0.46, 0.48, 0.5 , 0.52, 0.54, 0.56, 0.58, 0.6 , 0.62, 0.64,\n",
       "        0.66, 0.68, 0.7 , 0.72, 0.74, 0.76, 0.78, 0.8 , 0.82, 0.84, 0.86,\n",
       "        0.88, 0.9 , 0.92, 0.94, 0.96, 0.98, 1.  ]),\n",
       " <BarContainer object of 50 artists>)"
      ]
     },
     "execution_count": 5,
     "metadata": {},
     "output_type": "execute_result"
    },
    {
     "data": {
      "image/png": "[encoded data removed]",
      "text/plain": [
       "<Figure size 1080x360 with 1 Axes>"
      ]
     },
     "metadata": {},
     "output_type": "display_data"
    }
   ],
   "source": [
    "plt.hist(Xjoined, bins=50)"
   ]
  },
  {
   "cell_type": "code",
   "execution_count": 6,
   "metadata": {},
   "outputs": [
    {
     "name": "stdout",
     "output_type": "stream",
     "text": [
      "0.5522110328600667\n"
     ]
    }
   ],
   "source": [
    "print(np.average(Xjoined))"
   ]
  }
 ],
 "metadata": {
  "kernelspec": {
   "display_name": "Python 3",
   "language": "python",
   "name": "python3"
  },
  "language_info": {
   "codemirror_mode": {
    "name": "ipython",
    "version": 3
   },
   "file_extension": ".py",
   "mimetype": "text/x-python",
   "name": "python",
   "nbconvert_exporter": "python",
   "pygments_lexer": "ipython3",
   "version": "3.8.10"
  }
 },
 "nbformat": 4,
 "nbformat_minor": 2
}
